{
 "cells": [
  {
   "cell_type": "markdown",
   "metadata": {},
   "source": [
    "# Build a Container Image for Serverless Deployment\n",
    "\n",
    "This notebook builds a docker container for our streaming Twitter application. Instead of running the application on an EC2 server, we will instead leverage AWS Fargate, a compute engine for Amazon ECS that allows you to run containers without having to manage servers or clusters. \n",
    "\n",
    "Read more about AWS Fargate [here](https://aws.amazon.com/fargate/)."
   ]
  },
  {
   "cell_type": "markdown",
   "metadata": {},
   "source": [
    "## Set up libraries and environment veriables"
   ]
  },
  {
   "cell_type": "code",
   "execution_count": null,
   "metadata": {},
   "outputs": [],
   "source": [
    "import os\n",
    "import boto3"
   ]
  },
  {
   "cell_type": "code",
   "execution_count": null,
   "metadata": {},
   "outputs": [],
   "source": [
    "client = boto3.client('sts')\n",
    "account = client.get_caller_identity()['Account']"
   ]
  },
  {
   "cell_type": "code",
   "execution_count": null,
   "metadata": {},
   "outputs": [],
   "source": [
    "os.environ['FULL_NAME'] = \"{}.dkr.ecr.us-east-1.amazonaws.com/tweetreader-repo:latest\".format(account)\n",
    "os.environ['IMG'] = \"tweetreader\"\n",
    "os.environ['AWS_DEFAULT_REGION'] = \"us-east-1\""
   ]
  },
  {
   "cell_type": "markdown",
   "metadata": {},
   "source": [
    "## Create a new ECR repository\n",
    "We will store our container image here to use with Fargate"
   ]
  },
  {
   "cell_type": "code",
   "execution_count": null,
   "metadata": {},
   "outputs": [],
   "source": [
    "!aws ecr create-repository --repository-name tweetreader-repo"
   ]
  },
  {
   "cell_type": "markdown",
   "metadata": {},
   "source": [
    "## Build and push the ECR image"
   ]
  },
  {
   "cell_type": "code",
   "execution_count": null,
   "metadata": {},
   "outputs": [],
   "source": [
    "%%sh\n",
    "\n",
    "$(aws ecr get-login --region \"${AWS_DEFAULT_REGION}\" --no-include-email)\n",
    "docker build -t \"${IMG}\" .\n",
    "docker tag \"${IMG}\" \"${FULL_NAME}\"\n",
    "docker push \"${FULL_NAME}\""
   ]
  }
 ],
 "metadata": {
  "kernelspec": {
   "display_name": "conda_python3",
   "language": "python",
   "name": "conda_python3"
  },
  "language_info": {
   "codemirror_mode": {
    "name": "ipython",
    "version": 3
   },
   "file_extension": ".py",
   "mimetype": "text/x-python",
   "name": "python",
   "nbconvert_exporter": "python",
   "pygments_lexer": "ipython3",
   "version": "3.6.5"
  }
 },
 "nbformat": 4,
 "nbformat_minor": 4
}
