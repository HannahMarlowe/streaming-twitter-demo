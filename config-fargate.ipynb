{
 "cells": [
  {
   "cell_type": "code",
   "execution_count": 1,
   "metadata": {},
   "outputs": [],
   "source": [
    "import os\n",
    "import boto3"
   ]
  },
  {
   "cell_type": "code",
   "execution_count": 2,
   "metadata": {},
   "outputs": [],
   "source": [
    "client = boto3.client('sts')\n",
    "account = client.get_caller_identity()['Account']"
   ]
  },
  {
   "cell_type": "code",
   "execution_count": 3,
   "metadata": {},
   "outputs": [],
   "source": [
    "os.environ['FULL_NAME'] = \"{}.dkr.ecr.us-east-1.amazonaws.com/tweetreader-repo:latest\".format(account)\n",
    "os.environ['IMG'] = \"tweetreader\"\n",
    "os.environ['AWS_DEFAULT_REGION'] = \"us-east-1\""
   ]
  },
  {
   "cell_type": "code",
   "execution_count": 4,
   "metadata": {},
   "outputs": [
    {
     "name": "stdout",
     "output_type": "stream",
     "text": [
      "{\n",
      "    \"repository\": {\n",
      "        \"repositoryArn\": \"arn:aws:ecr:us-east-1:197533601738:repository/tweetreader-repo\",\n",
      "        \"registryId\": \"197533601738\",\n",
      "        \"repositoryName\": \"tweetreader-repo\",\n",
      "        \"repositoryUri\": \"197533601738.dkr.ecr.us-east-1.amazonaws.com/tweetreader-repo\",\n",
      "        \"createdAt\": 1575215328.0,\n",
      "        \"imageTagMutability\": \"MUTABLE\",\n",
      "        \"imageScanningConfiguration\": {\n",
      "            \"scanOnPush\": false\n",
      "        }\n",
      "    }\n",
      "}\n"
     ]
    }
   ],
   "source": [
    "!aws ecr create-repository --repository-name tweetreader-repo"
   ]
  },
  {
   "cell_type": "code",
   "execution_count": 5,
   "metadata": {},
   "outputs": [
    {
     "name": "stdout",
     "output_type": "stream",
     "text": [
      "Login Succeeded\n",
      "Sending build context to Docker daemon  57.04MB\n",
      "Step 1/10 : FROM amazonlinux:2017.09\n",
      " ---> 199a7ae8f1db\n",
      "Step 2/10 : RUN curl -o- https://raw.githubusercontent.com/creationix/nvm/v0.32.0/install.sh | bash         && . ~/.nvm/nvm.sh         && nvm install 8.10.0\n",
      " ---> Using cache\n",
      " ---> 33ff77509b01\n",
      "Step 3/10 : ENV PATH /root/.nvm/versions/node/v8.10.0/bin:$PATH\n",
      " ---> Using cache\n",
      " ---> d13e3831ac9d\n",
      "Step 4/10 : WORKDIR /home/ec2-user\n",
      " ---> Using cache\n",
      " ---> ab9267302764\n",
      "Step 5/10 : RUN mkdir twitterApp\n",
      " ---> Using cache\n",
      " ---> a0586d84033f\n",
      "Step 6/10 : COPY ./SocialAnalyticsReader/ /home/ec2-user/twitterApp\n",
      " ---> Using cache\n",
      " ---> 87873f59a06f\n",
      "Step 7/10 : RUN chmod ugo+x /home/ec2-user/*\n",
      " ---> Using cache\n",
      " ---> 10623709effa\n",
      "Step 8/10 : USER root\n",
      " ---> Using cache\n",
      " ---> e2fc0818514f\n",
      "Step 9/10 : WORKDIR /home/ec2-user/twitterApp\n",
      " ---> Using cache\n",
      " ---> 15eed186cee5\n",
      "Step 10/10 : ENTRYPOINT [\"node\",\"twitter_stream_producer_app.js\"]\n",
      " ---> Using cache\n",
      " ---> 8c3d145f0bcf\n",
      "Successfully built 8c3d145f0bcf\n",
      "Successfully tagged tweetreader:latest\n",
      "The push refers to repository [197533601738.dkr.ecr.us-east-1.amazonaws.com/tweetreader-repo]\n",
      "8aacf9b08f23: Preparing\n",
      "b1b814fa107c: Preparing\n",
      "5c17bc82437c: Preparing\n",
      "435a67d45e88: Preparing\n",
      "8a8ebd56c908: Preparing\n",
      "fcdda4c6633c: Preparing\n",
      "fcdda4c6633c: Waiting\n",
      "5c17bc82437c: Pushed\n",
      "435a67d45e88: Pushed\n",
      "8aacf9b08f23: Pushed\n",
      "b1b814fa107c: Pushed\n",
      "8a8ebd56c908: Pushed\n",
      "fcdda4c6633c: Pushed\n",
      "latest: digest: sha256:48a0003953d429327432d1e6a8b5bd51fa52742bb2f5daf69de917a3aa5e6cba size: 1573\n"
     ]
    },
    {
     "name": "stderr",
     "output_type": "stream",
     "text": [
      "WARNING! Using --password via the CLI is insecure. Use --password-stdin.\n",
      "WARNING! Your password will be stored unencrypted in /home/ec2-user/.docker/config.json.\n",
      "Configure a credential helper to remove this warning. See\n",
      "https://docs.docker.com/engine/reference/commandline/login/#credentials-store\n",
      "\n"
     ]
    }
   ],
   "source": [
    "%%sh\n",
    "\n",
    "$(aws ecr get-login --region \"${AWS_DEFAULT_REGION}\" --no-include-email)\n",
    "docker build -t \"${IMG}\" .\n",
    "docker tag \"${IMG}\" \"${FULL_NAME}\"\n",
    "docker push \"${FULL_NAME}\""
   ]
  },
  {
   "cell_type": "code",
   "execution_count": null,
   "metadata": {},
   "outputs": [],
   "source": []
  }
 ],
 "metadata": {
  "kernelspec": {
   "display_name": "conda_python3",
   "language": "python",
   "name": "conda_python3"
  },
  "language_info": {
   "codemirror_mode": {
    "name": "ipython",
    "version": 3
   },
   "file_extension": ".py",
   "mimetype": "text/x-python",
   "name": "python",
   "nbconvert_exporter": "python",
   "pygments_lexer": "ipython3",
   "version": "3.6.5"
  }
 },
 "nbformat": 4,
 "nbformat_minor": 4
}
